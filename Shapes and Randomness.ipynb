{
 "cells": [
  {
   "cell_type": "code",
   "execution_count": 1,
   "id": "e5c9d01c",
   "metadata": {},
   "outputs": [
    {
     "data": {
      "text/html": [
       "<div id=\"glowscript\" class=\"glowscript\"></div>"
      ],
      "text/plain": [
       "<IPython.core.display.HTML object>"
      ]
     },
     "metadata": {},
     "output_type": "display_data"
    },
    {
     "data": {
      "application/javascript": [
       "if (typeof Jupyter !== \"undefined\") { window.__context = { glowscript_container: $(\"#glowscript\").removeAttr(\"id\")};}else{ element.textContent = ' ';}"
      ],
      "text/plain": [
       "<IPython.core.display.Javascript object>"
      ]
     },
     "metadata": {},
     "output_type": "display_data"
    }
   ],
   "source": [
    "import vpython as v\n",
    "import random as rn\n",
    "import numpy as np"
   ]
  },
  {
   "cell_type": "code",
   "execution_count": 2,
   "id": "af4f18b3",
   "metadata": {},
   "outputs": [
    {
     "name": "stdout",
     "output_type": "stream",
     "text": [
      "Number of sides : 5\n",
      "Number of points : 20000\n"
     ]
    }
   ],
   "source": [
    "n = int(input(\"Number of sides : \"))\n",
    "N = int(input(\"Number of points : \"))\n",
    "\n",
    "\n",
    "theta = rn.random()   # Start with a random point on the unit circle \n",
    "\n",
    "dtheta = 2 * np.pi / n # find n points separated by dtheta on the circumference of the circle \n",
    "\n",
    "angles = np.zeros(n)\n",
    "for i in range(n):\n",
    "    angles[i] = theta    \n",
    "    theta += dtheta   \n"
   ]
  },
  {
   "cell_type": "code",
   "execution_count": null,
   "id": "1350e545",
   "metadata": {},
   "outputs": [
    {
     "data": {
      "application/javascript": [
       "if (typeof Jupyter !== \"undefined\") {require.undef(\"nbextensions/vpython_libraries/glow.min\");}else{element.textContent = ' ';}"
      ],
      "text/plain": [
       "<IPython.core.display.Javascript object>"
      ]
     },
     "metadata": {},
     "output_type": "display_data"
    },
    {
     "data": {
      "application/javascript": [
       "if (typeof Jupyter !== \"undefined\") {require.undef(\"nbextensions/vpython_libraries/glowcomm\");}else{element.textContent = ' ';}"
      ],
      "text/plain": [
       "<IPython.core.display.Javascript object>"
      ]
     },
     "metadata": {},
     "output_type": "display_data"
    },
    {
     "data": {
      "application/javascript": [
       "if (typeof Jupyter !== \"undefined\") {require.undef(\"nbextensions/vpython_libraries/jquery-ui.custom.min\");}else{element.textContent = ' ';}"
      ],
      "text/plain": [
       "<IPython.core.display.Javascript object>"
      ]
     },
     "metadata": {},
     "output_type": "display_data"
    },
    {
     "data": {
      "application/javascript": [
       "if (typeof Jupyter !== \"undefined\") {require([\"nbextensions/vpython_libraries/glow.min\"], function(){console.log(\"GLOW LOADED\");});}else{element.textContent = ' ';}"
      ],
      "text/plain": [
       "<IPython.core.display.Javascript object>"
      ]
     },
     "metadata": {},
     "output_type": "display_data"
    },
    {
     "data": {
      "application/javascript": [
       "if (typeof Jupyter !== \"undefined\") {require([\"nbextensions/vpython_libraries/glowcomm\"], function(){console.log(\"GLOWCOMM LOADED\");});}else{element.textContent = ' ';}"
      ],
      "text/plain": [
       "<IPython.core.display.Javascript object>"
      ]
     },
     "metadata": {},
     "output_type": "display_data"
    },
    {
     "data": {
      "application/javascript": [
       "if (typeof Jupyter !== \"undefined\") {require([\"nbextensions/vpython_libraries/jquery-ui.custom.min\"], function(){console.log(\"JQUERY LOADED\");});}else{element.textContent = ' ';}"
      ],
      "text/plain": [
       "<IPython.core.display.Javascript object>"
      ]
     },
     "metadata": {},
     "output_type": "display_data"
    }
   ],
   "source": [
    "p1 = v.vector(0, 0, 0)\n",
    "pp1 = v.vector(0, 0, 0)\n",
    "\n",
    "\n",
    "\n",
    "\n",
    "graph = v.graph(length = 500, width = 500, xmin = -1, xmax = 1, ymin = -1, ymax = 1, background = v.color.white, foreground = v.color.white)\n",
    "\n",
    "for i in range(N):\n",
    "    g = v.gdots(color = v.vector(rn.random(), rn.random(), 0.9), radius = 0.5)\n",
    "    vv1 = rn.choice(angles) \n",
    "    vv2 = vv1 + dtheta  # making sure that the vertices are adjacent (separated by dtheta)\n",
    "    pp2 = v.vector(np.cos(vv1), np.sin(vv1), 0)\n",
    "    pp3 = v.vector(np.cos(vv2), np.sin(vv2), 0) \n",
    "    pp1 = (pp1 + pp2 + pp3) / 3  # finding the centroid of the formed triangle \n",
    "    v.rate(500)\n",
    "    g.plot(pos = (pp1.x, pp1.y))\n",
    "\n",
    "graph2 = v.graph(length = 500, width = 500, xmin = -1, xmax = 1, ymin = -1, ymax = 1, background = v.color.white, foreground = v.color.white)\n",
    "\n",
    "for i in range(N):\n",
    "    gg = v.gdots(color = v.vector(rn.random(), rn.random(), 0.9), radius = 0.5)\n",
    "    v1, v2 = rn.sample(list(angles), 2) # picking two vertices randomly \n",
    "    p2 = v.vector(np.cos(v1), np.sin(v1), 0)\n",
    "    p3 = v.vector(np.cos(v2), np.sin(v2), 0) \n",
    "    p1 = (p1 + p2 + p3) / 3  # finding the centroid of the formed triangle \n",
    "    v.rate(500)\n",
    "    gg.plot(pos = (p1.x, p1.y))\n"
   ]
  },
  {
   "cell_type": "code",
   "execution_count": null,
   "id": "7215ddcd",
   "metadata": {},
   "outputs": [],
   "source": []
  },
  {
   "cell_type": "code",
   "execution_count": null,
   "id": "bf367779",
   "metadata": {},
   "outputs": [],
   "source": []
  },
  {
   "cell_type": "code",
   "execution_count": null,
   "id": "ae9a0814",
   "metadata": {},
   "outputs": [],
   "source": []
  },
  {
   "cell_type": "code",
   "execution_count": null,
   "id": "5a378b71",
   "metadata": {},
   "outputs": [],
   "source": []
  }
 ],
 "metadata": {
  "kernelspec": {
   "display_name": "Python 3 (ipykernel)",
   "language": "python",
   "name": "python3"
  },
  "language_info": {
   "codemirror_mode": {
    "name": "ipython",
    "version": 3
   },
   "file_extension": ".py",
   "mimetype": "text/x-python",
   "name": "python",
   "nbconvert_exporter": "python",
   "pygments_lexer": "ipython3",
   "version": "3.9.7"
  }
 },
 "nbformat": 4,
 "nbformat_minor": 5
}
